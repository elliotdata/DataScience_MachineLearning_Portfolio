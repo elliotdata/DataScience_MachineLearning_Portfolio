{
 "cells": [
  {
   "cell_type": "markdown",
   "id": "105eaa81-6008-465e-beca-2e29f335c90b",
   "metadata": {},
   "source": [
    "                                                                ***LOADING DATASET AND PRE-PROCESSING***"
   ]
  },
  {
   "cell_type": "code",
   "execution_count": 10,
   "id": "48673255-55ca-41c1-971f-95c6c3a5122d",
   "metadata": {
    "tags": []
   },
   "outputs": [],
   "source": [
    "#Essential libraries\n",
    "import pandas as pd\n",
    "import re\n",
    "from nltk.corpus import stopwords\n",
    "from nltk.tokenize import word_tokenize\n",
    "from nltk.stem import WordNetLemmatizer\n",
    "\n",
    "# Reading the dataset\n",
    "data = pd.read_csv('BA_reviews.csv')  \n",
    "\n",
    "# Pre-Processing functions\n",
    "def preprocess_text(text):\n",
    "    text = text.lower()\n",
    "    #text = text.str.replace('ba', '')\n",
    "    text = re.sub(r'\\d+', '', text)\n",
    "    text = re.sub(r'\\s+', ' ', text)\n",
    "    text = re.sub(r'\\W+', ' ', text)\n",
    "    #text = re.sub(r'trip verified', '', text)  # Removing \"trip verified\" phrase\n",
    "    #text = re.sub(r'not verified', '', text)   # Removing \"not verified\" phrase\n",
    "    words = word_tokenize(text)\n",
    "    words = [word for word in words if word not in stopwords.words('english')]\n",
    "    lemmatizer = WordNetLemmatizer()\n",
    "    words = [lemmatizer.lemmatize(word) for word in words]\n",
    "    return ' '.join(words)\n",
    "\n",
    "# Applying Pre-Processing to the review column in the data\n",
    "data['cleaned_review'] = data['review'].apply(preprocess_text)"
   ]
  },
  {
   "cell_type": "code",
   "execution_count": 12,
   "id": "293d3fbf-4403-4a69-9906-1655be0bfc49",
   "metadata": {
    "tags": []
   },
   "outputs": [],
   "source": [
    "#checking if the reviews were cleaned and printing the file\n",
    "data['cleaned_review']\n",
    "data.to_csv('BA_reviews_cleaned.csv',index=False)"
   ]
  },
  {
   "cell_type": "markdown",
   "id": "bfc2dcab-de09-43e2-8bf5-485de2d623c1",
   "metadata": {},
   "source": [
    "                                                                   **TOPIC MODELLING AND DISPLAY OF TOPICS**"
   ]
  },
  {
   "cell_type": "code",
   "execution_count": 25,
   "id": "b2d360cc-35a5-4425-8f71-93e160f60a26",
   "metadata": {
    "tags": []
   },
   "outputs": [
    {
     "name": "stdout",
     "output_type": "stream",
     "text": [
      "Topic 0:\n",
      "seat economy premium leg room front food hour extra airline get service one passenger row\n",
      "\n",
      "Topic 1:\n",
      "year many staff child time one travel use avios travelling travelled family journey trip airline\n",
      "\n",
      "Topic 2:\n",
      "seat class business get food aisle cabin first window good one service sleep bed crew\n",
      "\n",
      "Topic 3:\n",
      "hour london day time airport delay would delayed arrived heathrow told due late luggage one\n",
      "\n",
      "Topic 4:\n",
      "club service class business europe money staff product airline passenger economy seat food premium poor\n",
      "\n",
      "Topic 5:\n",
      "told staff asked one would ck got said get airport another could day luggage time\n",
      "\n",
      "Topic 6:\n",
      "meal drink served breakfast food service crew choice offered chicken hour cabin snack dinner economy\n",
      "\n",
      "Topic 7:\n",
      "seat would time plane old crew ck cabin staff fly screen got didnt passenger entertainment\n",
      "\n",
      "Topic 8:\n",
      "boarding time seat drink lounge check crew checkin quick security service good minute full food\n",
      "\n",
      "Topic 9:\n",
      "plane hour water one food check drink bottle people queue return time passenger ck crew\n",
      "\n",
      "Topic 10:\n",
      "airline customer service heathrow london even staff luggage connecting make via never get review dont\n",
      "\n",
      "Topic 11:\n",
      "seat crew cabin food good aircraft entertainment london world excellent service comfortable time system new\n",
      "\n",
      "Topic 12:\n",
      "passenger crew boarding minute cabin gate late aircraft delay bus ground hour board delayed service\n",
      "\n",
      "Topic 13:\n",
      "haul airline london long short time low cost carrier food price return seat service free\n",
      "\n",
      "Topic 14:\n",
      "class business lounge food first seat economy london poor choice time gatwick heathrow meal option\n",
      "\n",
      "Topic 15:\n",
      "seat paid extra would check service pay could one together even cost middle available charge\n",
      "\n",
      "Topic 16:\n",
      "customer call refund service booked phone cancelled get ticket email booking day called number told\n",
      "\n",
      "Topic 17:\n",
      "good food comfortable time crew service heathrow seat friendly london nice cabin great drink excellent\n",
      "\n",
      "Topic 18:\n",
      "first club lounge crew service food cabin good class world time excellent new champagne well\n",
      "\n",
      "Topic 19:\n",
      "airline service review verified food year london heathrow cabin budget price fly time even like\n",
      "\n"
     ]
    }
   ],
   "source": [
    "from sklearn.feature_extraction.text import CountVectorizer\n",
    "from sklearn.decomposition import LatentDirichletAllocation\n",
    "\n",
    "data['cleaned_review'] = data['cleaned_review'].str.replace('ba', '')\n",
    "data['cleaned_review'] = data['cleaned_review'].str.replace('british airway', '')\n",
    "\n",
    "vectorizer = CountVectorizer(max_features=1000, max_df=0.8)\n",
    "X = vectorizer.fit_transform(data['cleaned_review'])\n",
    "\n",
    "#Latent Dirichlet Allocation\n",
    "num_topics = 20\n",
    "lda = LatentDirichletAllocation(n_components=num_topics, random_state=42)\n",
    "lda.fit(X)\n",
    "\n",
    "#Top words for each topic\n",
    "def display_topics(model, feature_names, num_top_words):\n",
    "    for topic_idx, topic in enumerate(model.components_):\n",
    "        print(f\"Topic {topic_idx}:\")\n",
    "        print(\" \".join([feature_names[i] for i in topic.argsort()[:-num_top_words - 1:-1]]))\n",
    "        print()\n",
    "\n",
    "num_top_words = 15\n",
    "feature_names = vectorizer.get_feature_names_out()\n",
    "display_topics(lda, feature_names, num_top_words)"
   ]
  },
  {
   "cell_type": "code",
   "execution_count": 27,
   "id": "7b5353f3-9ce0-4f04-bf02-fa05a55fc538",
   "metadata": {
    "tags": []
   },
   "outputs": [],
   "source": [
    "#topic assignment \n",
    "topic_assignments = lda.transform(X)\n",
    "topic_assignments_df = pd.DataFrame(topic_assignments, columns=[f'Topic {i+1}' for i in range(num_topics)])\n",
    "topic_assignments_df.to_csv('BA_reviews_topic_assignments.csv', index=False)"
   ]
  },
  {
   "cell_type": "code",
   "execution_count": 28,
   "id": "5271bc43-9bbc-48cf-b9d3-ef3e580b5464",
   "metadata": {
    "tags": []
   },
   "outputs": [],
   "source": [
    "#topic words\n",
    "topic_words = []\n",
    "for topic_idx, topic in enumerate(lda.components_):\n",
    "    top_words = [feature_names[i] for i in topic.argsort()[:-num_top_words - 1:-1]]\n",
    "    topic_words.append(top_words)\n",
    "    \n",
    "#assigning it to a dataframe and printing the csv file\n",
    "topic_words_df = pd.DataFrame(topic_words, columns=[f'Top Word {i+1}' for i in range(num_top_words)])\n",
    "topic_words_df.to_csv('BA_reviews_topic_words.csv', index=False)"
   ]
  },
  {
   "cell_type": "markdown",
   "id": "48dde6fd-7120-4796-a59e-f3b43afd85ac",
   "metadata": {},
   "source": [
    "                                                                  **SENTIMENT ANALYSIS**"
   ]
  },
  {
   "cell_type": "code",
   "execution_count": 29,
   "id": "2802ab5d-9143-4e7a-9ec3-67d2377caae8",
   "metadata": {
    "tags": []
   },
   "outputs": [],
   "source": [
    "from textblob import TextBlob\n",
    "import matplotlib.pyplot as plt\n",
    "import seaborn as sns\n",
    "\n",
    "#Statement Analysis Function\n",
    "def analyze_sentiment(text):\n",
    "    analysis = TextBlob(text)\n",
    "    sentiment = analysis.sentiment.polarity\n",
    "    if sentiment > 0:\n",
    "        return 'Positive'\n",
    "    elif sentiment < 0:\n",
    "        return 'Negative'\n",
    "    else:\n",
    "        return 'Neutral'\n",
    "\n",
    "#Sentiment analysis on the cleaned_review column\n",
    "data['sentiment'] = data['cleaned_review'].apply(analyze_sentiment)\n",
    "\n",
    "#printing the sentiment analysis csv file\n",
    "data.to_csv('BA_reviews_sentiment_analysis.csv',index=False)"
   ]
  },
  {
   "cell_type": "code",
   "execution_count": 30,
   "id": "d126f735-1ad4-45ba-bef3-2190f6be9566",
   "metadata": {
    "tags": []
   },
   "outputs": [],
   "source": [
    "from textblob import TextBlob\n",
    "import pandas as pd\n",
    "\n",
    "# Statement Analysis Function\n",
    "def analyze_sentiment(text):\n",
    "    analysis = TextBlob(text)\n",
    "    sentiment = analysis.sentiment.polarity\n",
    "    return sentiment\n",
    "\n",
    "# Load your data into a DataFrame (assuming you have a 'review' column)\n",
    "data = pd.read_csv('BA_reviews_cleaned.csv')\n",
    "\n",
    "# Sentiment analysis on the 'cleaned_review' column\n",
    "data['sentiment_score'] = data['cleaned_review'].apply(analyze_sentiment)\n",
    "data['sentiment'] = data['sentiment_score'].apply(lambda score: 'Positive' if score > 0 else ('Negative' if score < 0 else 'Neutral'))\n",
    "\n",
    "# Save the DataFrame with sentiment analysis to a CSV file\n",
    "data.to_csv('BA_reviews_sentiment_analysis.csv', index=False)\n"
   ]
  },
  {
   "cell_type": "code",
   "execution_count": 31,
   "id": "18332ed3-bc4e-4c16-b7a7-52b56f01ca59",
   "metadata": {
    "tags": []
   },
   "outputs": [
    {
     "name": "stdout",
     "output_type": "stream",
     "text": [
      "Positive count: 2561\n",
      "Negative count: 1036\n",
      "Neutral count: 24\n"
     ]
    }
   ],
   "source": [
    "#count of positive,negative and neutral sentiment\n",
    "positive_count = (data['sentiment'] == 'Positive').sum()\n",
    "negative_count = (data['sentiment'] == 'Negative').sum()\n",
    "neutral_count = (data['sentiment'] == 'Neutral').sum()\n",
    "\n",
    "print(f\"Positive count: {positive_count}\")\n",
    "print(f\"Negative count: {negative_count}\")\n",
    "print(f\"Neutral count: {neutral_count}\")"
   ]
  },
  {
   "cell_type": "code",
   "execution_count": 32,
   "id": "73bcf2cb-a41e-4512-bfa0-3a2788d6098c",
   "metadata": {
    "tags": []
   },
   "outputs": [
    {
     "data": {
      "image/png": "[encoded data removed]",
      "text/plain": [
       "<Figure size 800x600 with 1 Axes>"
      ]
     },
     "metadata": {},
     "output_type": "display_data"
    }
   ],
   "source": [
    "#Sentiment distribution Plot\n",
    "plt.figure(figsize=(8, 6))\n",
    "sns.countplot(x='sentiment', data=data, palette='Set2')\n",
    "plt.title('Sentiment distribution')\n",
    "plt.xlabel('Sentiment')\n",
    "plt.ylabel('Total no. of reviews')\n",
    "plt.show()"
   ]
  },
  {
   "cell_type": "markdown",
   "id": "71cbc7b9-3bdc-49b6-8204-e68b197463cf",
   "metadata": {},
   "source": [
    "                                                                **WORD CLOUD**"
   ]
  },
  {
   "cell_type": "code",
   "execution_count": 34,
   "id": "fb68cb4e-b478-4fc2-a42d-592b4bd140d7",
   "metadata": {
    "tags": []
   },
   "outputs": [],
   "source": [
    "from wordcloud import WordCloud\n",
    "import matplotlib.pyplot as plt\n",
    "\n",
    "# Word cloud for each sentiment\n",
    "sentiments = ['Positive', 'Negative', 'Neutral']\n",
    "for sentiment in sentiments:\n",
    "    reviews = ' '.join(data[data['sentiment'] == sentiment]['cleaned_review'])\n",
    "    wordcloud = WordCloud(width=800, height=400, background_color='white').generate(reviews)\n",
    "    \n",
    "    # Extract the words from the word cloud object\n",
    "    words = list(wordcloud.words_.keys())"
   ]
  },
  {
   "cell_type": "code",
   "execution_count": 35,
   "id": "b2c28f0f-1331-4e62-a1a1-dd689fcb6fdd",
   "metadata": {
    "tags": []
   },
   "outputs": [
    {
     "name": "stdout",
     "output_type": "stream",
     "text": [
      "Reviews saved to BA_reviews_wordcloud.txt\n"
     ]
    }
   ],
   "source": [
    "#saving the entire word cloud as a text file\n",
    "reviews_filename = 'BA_reviews_wordcloud.txt'\n",
    "with open(reviews_filename, 'w') as file:\n",
    "    file.write(reviews)\n",
    "\n",
    "print(f'Reviews saved to {reviews_filename}')"
   ]
  }
 ],
 "metadata": {
  "kernelspec": {
   "display_name": "Python 3 (ipykernel)",
   "language": "python",
   "name": "python3"
  },
  "language_info": {
   "codemirror_mode": {
    "name": "ipython",
    "version": 3
   },
   "file_extension": ".py",
   "mimetype": "text/x-python",
   "name": "python",
   "nbconvert_exporter": "python",
   "pygments_lexer": "ipython3",
   "version": "3.11.3"
  }
 },
 "nbformat": 4,
 "nbformat_minor": 5
}
