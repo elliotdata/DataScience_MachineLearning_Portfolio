{
 "cells": [
  {
   "cell_type": "code",
   "execution_count": 34,
   "id": "d6db8ddd-d0cd-41de-9368-68c92dda9e85",
   "metadata": {
    "tags": []
   },
   "outputs": [],
   "source": [
    "#importing essential libraries\n",
    "import pandas as pd\n",
    "from collections import Counter"
   ]
  },
  {
   "cell_type": "markdown",
   "id": "a215c885-c8eb-4d4b-ab39-385341da0aad",
   "metadata": {},
   "source": [
    "                                                         ***ANALYSIS TO GET ACTIONABLE INSIGHTS***"
   ]
  },
  {
   "cell_type": "markdown",
   "id": "2ff64088-1d36-4f35-8d15-abc0f4793d3d",
   "metadata": {},
   "source": [
    "*Top 5 - Positive & Negative Words*"
   ]
  },
  {
   "cell_type": "code",
   "execution_count": 39,
   "id": "abfb67cb-a414-4c8e-a796-09c46916b876",
   "metadata": {
    "tags": []
   },
   "outputs": [
    {
     "name": "stdout",
     "output_type": "stream",
     "text": [
      "Top 5 words in Positive reviews: ['flight', 'seat', 'service', 'good', 'crew']\n",
      "Top 5 words in Negative reviews: ['flight', 'seat', 'service', 'london', 'hour']\n"
     ]
    }
   ],
   "source": [
    "# Loading the sentiment analysis file\n",
    "data = pd.read_csv('BA_reviews_sentiment_analysis.csv') \n",
    "\n",
    "data['cleaned_review'] = data['cleaned_review'].str.replace('ba', '')\n",
    "data['cleaned_review'] = data['cleaned_review'].str.replace('british airway', '')\n",
    "\n",
    "# Top 5 most frequent words in positive and negative reviews\n",
    "for sentiment in ['Positive', 'Negative']:\n",
    "    reviews = data[data['sentiment'] == sentiment]['cleaned_review']\n",
    "    \n",
    "    # Combine all reviews into one\n",
    "    combined_reviews = ' '.join(reviews)\n",
    "    \n",
    "    # Tokenize the combined reviews\n",
    "    words = combined_reviews.split()\n",
    "    \n",
    "    # Count word occurrences\n",
    "    word_counts = Counter(words)\n",
    "    \n",
    "    # Get the top 5 most frequent words\n",
    "    top_words = word_counts.most_common(5)\n",
    "    \n",
    "    print(f\"Top 5 words in {sentiment} reviews:\", [word[0] for word in top_words])"
   ]
  },
  {
   "cell_type": "markdown",
   "id": "44c2a647-96d0-4081-a598-1e633aaff06c",
   "metadata": {},
   "source": [
    "*Most Common Words Across Topics*"
   ]
  },
  {
   "cell_type": "code",
   "execution_count": 36,
   "id": "ffaf4ad1-1d7e-497a-bd75-0ffc80566a12",
   "metadata": {
    "tags": []
   },
   "outputs": [
    {
     "name": "stdout",
     "output_type": "stream",
     "text": [
      "Most Common Words Across Topics:\n",
      "[('service', 14), ('time', 12), ('food', 12), ('seat', 10), ('crew', 9), ('cabin', 8), ('london', 7), ('one', 7), ('airline', 6), ('hour', 5)]\n"
     ]
    }
   ],
   "source": [
    "# Loading the topic words file\n",
    "topic_words = pd.read_csv('BA_reviews_topic_words.csv')  \n",
    "\n",
    "# All top words across topics\n",
    "all_top_words = [word for column in topic_words.columns for word in topic_words[column]]\n",
    "\n",
    "# Occurrences of top words\n",
    "word_counts = Counter(all_top_words)\n",
    "\n",
    "# Get the most common words\n",
    "common_words = word_counts.most_common(10)\n",
    "\n",
    "# Print of the most common words across topics\n",
    "print(\"Most Common Words Across Topics:\")\n",
    "print(common_words)"
   ]
  },
  {
   "cell_type": "markdown",
   "id": "1d789b0f-6240-4aee-b125-35e9a7e7d32a",
   "metadata": {},
   "source": [
    "*VADER Sentiment Analyser to get Top 5 positive & Negative reviews associated with ther respective positive & negative words*"
   ]
  },
  {
   "cell_type": "code",
   "execution_count": 37,
   "id": "bc88a7b0-f6f5-4c68-bb6d-be479e714555",
   "metadata": {
    "tags": []
   },
   "outputs": [
    {
     "name": "stdout",
     "output_type": "stream",
     "text": [
      "Output saved to VADER_sentiment_analysis.txt\n"
     ]
    }
   ],
   "source": [
    "from nltk.sentiment.vader import SentimentIntensityAnalyzer\n",
    "from collections import defaultdict\n",
    "\n",
    "#  VADER sentiment analyzer\n",
    "sid = SentimentIntensityAnalyzer()\n",
    "\n",
    "# Keywords for positive and negative reviews\n",
    "positive_keywords = ['flight', 'seat', 'service', 'good', 'time']\n",
    "negative_keywords = ['flight', 'seat', 'service', 'london', 'hour']\n",
    "\n",
    "# Dictionary to store reviews for each keyword\n",
    "positive_reviews_by_keyword = defaultdict(list)\n",
    "negative_reviews_by_keyword = defaultdict(list)\n",
    "\n",
    "# Iterate through each review and check keywords\n",
    "for index, row in data.iterrows():\n",
    "    review = row['review']\n",
    "    sentiment_score = sid.polarity_scores(review)['compound']\n",
    "    \n",
    "    for keyword in positive_keywords:\n",
    "        if keyword in review.lower():\n",
    "            positive_reviews_by_keyword[keyword].append((review, sentiment_score))\n",
    "    \n",
    "    for keyword in negative_keywords:\n",
    "        if keyword in review.lower():\n",
    "            negative_reviews_by_keyword[keyword].append((review, sentiment_score))\n",
    "\n",
    "# Top 5 positive reviews for each keyword\n",
    "top_positive_reviews = []\n",
    "for keyword in positive_keywords:\n",
    "    reviews = positive_reviews_by_keyword[keyword]\n",
    "    top_reviews = sorted(reviews, key=lambda x: x[1], reverse=True)[:5]\n",
    "    top_positive_reviews.extend([(review, sentiment_score, keyword) for review, sentiment_score in top_reviews])\n",
    "\n",
    "# Top 5 negative reviews for each keyword\n",
    "top_negative_reviews = []\n",
    "for keyword in negative_keywords:\n",
    "    reviews = negative_reviews_by_keyword[keyword]\n",
    "    top_reviews = sorted(reviews, key=lambda x: x[1])[:5]\n",
    "    top_negative_reviews.extend([(review, sentiment_score, keyword) for review, sentiment_score in top_reviews])\n",
    "\n",
    "#Saving the output file\n",
    "output_file = 'VADER_sentiment_analysis.txt'\n",
    "with open(output_file, 'w') as f:\n",
    "    f.write(\"Top 5 Positive Reviews with Positive Keywords:\\n\")\n",
    "    for i, (review, sentiment_score, keyword) in enumerate(top_positive_reviews, start=1):\n",
    "        f.write(f\"Review {i}: Keyword: {keyword}, Sentiment Score: {sentiment_score:.2f}\\n\")\n",
    "        f.write(f\"Review: {review}\\n\\n\")\n",
    "\n",
    "    f.write(\"Top 5 Negative Reviews with Negative Keywords:\\n\")\n",
    "    for i, (review, sentiment_score, keyword) in enumerate(top_negative_reviews, start=1):\n",
    "        f.write(f\"Review {i}: Keyword: {keyword}, Sentiment Score: {sentiment_score:.2f}\\n\")\n",
    "        f.write(f\"Review: {review}\\n\\n\")\n",
    "\n",
    "print(f\"Output saved to {output_file}\")\n"
   ]
  }
 ],
 "metadata": {
  "kernelspec": {
   "display_name": "Python 3 (ipykernel)",
   "language": "python",
   "name": "python3"
  },
  "language_info": {
   "codemirror_mode": {
    "name": "ipython",
    "version": 3
   },
   "file_extension": ".py",
   "mimetype": "text/x-python",
   "name": "python",
   "nbconvert_exporter": "python",
   "pygments_lexer": "ipython3",
   "version": "3.11.3"
  }
 },
 "nbformat": 4,
 "nbformat_minor": 5
}
